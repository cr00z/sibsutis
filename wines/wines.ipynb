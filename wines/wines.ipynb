{
 "cells": [
  {
   "cell_type": "code",
   "execution_count": 1,
   "id": "fbe65b21",
   "metadata": {},
   "outputs": [],
   "source": [
    "import pandas as pd\n",
    "import numpy as np\n",
    "from sklearn.linear_model import LinearRegression, Lasso\n",
    "from sklearn.metrics import accuracy_score, mean_absolute_error, mean_absolute_percentage_error, mean_squared_error, r2_score\n",
    "from sklearn.model_selection import train_test_split, ShuffleSplit\n",
    "from sklearn.preprocessing import StandardScaler\n",
    "import matplotlib.pyplot as plt\n",
    "import seaborn as sns"
   ]
  },
  {
   "cell_type": "code",
   "execution_count": 2,
   "id": "1df5f302",
   "metadata": {
    "scrolled": true
   },
   "outputs": [],
   "source": [
    "wines = pd.read_csv(\"winequalityN.csv\")"
   ]
  },
  {
   "cell_type": "code",
   "execution_count": 3,
   "id": "fe8d593c",
   "metadata": {},
   "outputs": [
    {
     "data": {
      "text/html": [
       "<div>\n",
       "<style scoped>\n",
       "    .dataframe tbody tr th:only-of-type {\n",
       "        vertical-align: middle;\n",
       "    }\n",
       "\n",
       "    .dataframe tbody tr th {\n",
       "        vertical-align: top;\n",
       "    }\n",
       "\n",
       "    .dataframe thead th {\n",
       "        text-align: right;\n",
       "    }\n",
       "</style>\n",
       "<table border=\"1\" class=\"dataframe\">\n",
       "  <thead>\n",
       "    <tr style=\"text-align: right;\">\n",
       "      <th></th>\n",
       "      <th>type</th>\n",
       "      <th>fixed acidity</th>\n",
       "      <th>volatile acidity</th>\n",
       "      <th>citric acid</th>\n",
       "      <th>residual sugar</th>\n",
       "      <th>chlorides</th>\n",
       "      <th>free sulfur dioxide</th>\n",
       "      <th>total sulfur dioxide</th>\n",
       "      <th>density</th>\n",
       "      <th>pH</th>\n",
       "      <th>sulphates</th>\n",
       "      <th>alcohol</th>\n",
       "      <th>quality</th>\n",
       "    </tr>\n",
       "  </thead>\n",
       "  <tbody>\n",
       "    <tr>\n",
       "      <th>3656</th>\n",
       "      <td>0.0</td>\n",
       "      <td>7.1</td>\n",
       "      <td>0.28</td>\n",
       "      <td>0.28</td>\n",
       "      <td>8.5</td>\n",
       "      <td>0.030</td>\n",
       "      <td>25.0</td>\n",
       "      <td>191.0</td>\n",
       "      <td>0.99338</td>\n",
       "      <td>3.16</td>\n",
       "      <td>0.46</td>\n",
       "      <td>12.2</td>\n",
       "      <td>7</td>\n",
       "    </tr>\n",
       "    <tr>\n",
       "      <th>5862</th>\n",
       "      <td>1.0</td>\n",
       "      <td>8.5</td>\n",
       "      <td>0.47</td>\n",
       "      <td>0.27</td>\n",
       "      <td>1.9</td>\n",
       "      <td>0.058</td>\n",
       "      <td>18.0</td>\n",
       "      <td>38.0</td>\n",
       "      <td>0.99518</td>\n",
       "      <td>3.16</td>\n",
       "      <td>0.85</td>\n",
       "      <td>11.1</td>\n",
       "      <td>6</td>\n",
       "    </tr>\n",
       "    <tr>\n",
       "      <th>2682</th>\n",
       "      <td>0.0</td>\n",
       "      <td>7.6</td>\n",
       "      <td>0.32</td>\n",
       "      <td>0.25</td>\n",
       "      <td>9.5</td>\n",
       "      <td>0.030</td>\n",
       "      <td>15.0</td>\n",
       "      <td>136.0</td>\n",
       "      <td>0.99367</td>\n",
       "      <td>3.10</td>\n",
       "      <td>0.44</td>\n",
       "      <td>12.1</td>\n",
       "      <td>6</td>\n",
       "    </tr>\n",
       "  </tbody>\n",
       "</table>\n",
       "</div>"
      ],
      "text/plain": [
       "      type  fixed acidity  volatile acidity  citric acid  residual sugar  \\\n",
       "3656   0.0            7.1              0.28         0.28             8.5   \n",
       "5862   1.0            8.5              0.47         0.27             1.9   \n",
       "2682   0.0            7.6              0.32         0.25             9.5   \n",
       "\n",
       "      chlorides  free sulfur dioxide  total sulfur dioxide  density    pH  \\\n",
       "3656      0.030                 25.0                 191.0  0.99338  3.16   \n",
       "5862      0.058                 18.0                  38.0  0.99518  3.16   \n",
       "2682      0.030                 15.0                 136.0  0.99367  3.10   \n",
       "\n",
       "      sulphates  alcohol  quality  \n",
       "3656       0.46     12.2        7  \n",
       "5862       0.85     11.1        6  \n",
       "2682       0.44     12.1        6  "
      ]
     },
     "execution_count": 3,
     "metadata": {},
     "output_type": "execute_result"
    }
   ],
   "source": [
    "wines[\"type\"] = (wines[\"type\"] == \"red\").astype(float)\n",
    "wines.sample(3)"
   ]
  },
  {
   "cell_type": "markdown",
   "id": "7118a8c3",
   "metadata": {},
   "source": [
    "## Оцениваем target\n",
    "\n",
    "Значения quality лежат в диапазоне от 3 до 9, в основном - 5, 6, 7 (93% значений), нулевых нет. Для оценки регрессии можно использовать все основные метрики: MAE, MSE, R2, MAPE (среднюю абсолютную процентную ошибку)."
   ]
  },
  {
   "cell_type": "code",
   "execution_count": 4,
   "id": "fb90f991",
   "metadata": {},
   "outputs": [
    {
     "name": "stdout",
     "output_type": "stream",
     "text": [
      "6    2836\n",
      "5    2138\n",
      "7    1079\n",
      "4     216\n",
      "8     193\n",
      "3      30\n",
      "9       5\n",
      "Name: quality, dtype: int64\n"
     ]
    }
   ],
   "source": [
    "print(wines[\"quality\"].value_counts())"
   ]
  },
  {
   "cell_type": "code",
   "execution_count": 5,
   "id": "906de576",
   "metadata": {},
   "outputs": [
    {
     "name": "stdout",
     "output_type": "stream",
     "text": [
      "Quality '5', '6', '7' percentage: 93.17%\n"
     ]
    },
    {
     "data": {
      "image/png": "[encoded data removed]",
      "text/plain": [
       "<Figure size 432x288 with 1 Axes>"
      ]
     },
     "metadata": {
      "needs_background": "light"
     },
     "output_type": "display_data"
    }
   ],
   "source": [
    "plt.hist(wines[\"quality\"], bins=range(0, 10));\n",
    "print(\"Quality '5', '6', '7' percentage: {:.2%}\".format(\n",
    "    wines[wines[\"quality\"].isin([5,6,7])].shape[0] / wines.shape[0]))"
   ]
  },
  {
   "cell_type": "markdown",
   "id": "3ca9a40e",
   "metadata": {},
   "source": [
    "## Оцениваем features"
   ]
  },
  {
   "cell_type": "code",
   "execution_count": 6,
   "id": "d0e39bcb",
   "metadata": {},
   "outputs": [
    {
     "name": "stdout",
     "output_type": "stream",
     "text": [
      "type                   float64     0\n",
      "fixed acidity          float64    10\n",
      "volatile acidity       float64     8\n",
      "citric acid            float64     3\n",
      "residual sugar         float64     2\n",
      "chlorides              float64     2\n",
      "free sulfur dioxide    float64     0\n",
      "total sulfur dioxide   float64     0\n",
      "density                float64     0\n",
      "pH                     float64     9\n",
      "sulphates              float64     4\n",
      "alcohol                float64     0\n",
      "quality                int64       0\n"
     ]
    }
   ],
   "source": [
    "for clmn in wines.columns:\n",
    "    print(\"{:22} {:10} {:2}\".format(clmn, str(wines[clmn].dtype), wines[clmn].isna().sum()))"
   ]
  },
  {
   "cell_type": "markdown",
   "id": "942fa526",
   "metadata": {},
   "source": [
    "## Избавляемся от NaN\n",
    "Неопределено всего 38 значений в 34 записях (~0,5% от базы). Запись '0' или среднего показало ухудшение предсказательной способности модели. В данном случае их проще (и лучше) дропнуть."
   ]
  },
  {
   "cell_type": "code",
   "execution_count": 7,
   "id": "deaff1f9",
   "metadata": {
    "scrolled": true
   },
   "outputs": [
    {
     "data": {
      "text/plain": [
       "(6463, 13)"
      ]
     },
     "execution_count": 7,
     "metadata": {},
     "output_type": "execute_result"
    }
   ],
   "source": [
    "# wines[\"fixed acidity\"] = wines[\"fixed acidity\"].fillna(wines[\"fixed acidity\"].mean())\n",
    "wines = wines.dropna(subset=[\n",
    "    \"fixed acidity\", \"volatile acidity\", \"citric acid\", \"residual sugar\", \"chlorides\", \"pH\", \"sulphates\"\n",
    "], axis=0)\n",
    "wines.shape"
   ]
  },
  {
   "cell_type": "markdown",
   "id": "96fcf25a",
   "metadata": {},
   "source": [
    "## Разбиваем еще на два датасета (для белого и красного)"
   ]
  },
  {
   "cell_type": "code",
   "execution_count": 8,
   "id": "34dd2ad3",
   "metadata": {},
   "outputs": [
    {
     "data": {
      "text/plain": [
       "((4870, 13), (1593, 13))"
      ]
     },
     "execution_count": 8,
     "metadata": {},
     "output_type": "execute_result"
    }
   ],
   "source": [
    "white_wines = wines[wines[\"type\"] == 0]\n",
    "red_wines = wines[wines[\"type\"] == 1]\n",
    "\n",
    "white_wines.drop(columns=[\"type\"])\n",
    "red_wines.drop(columns=[\"type\"])\n",
    "\n",
    "white_wines.shape, red_wines.shape"
   ]
  },
  {
   "cell_type": "markdown",
   "id": "0cbc077a",
   "metadata": {},
   "source": [
    "## Строим регрессии для полного датасета"
   ]
  },
  {
   "cell_type": "code",
   "execution_count": 9,
   "id": "b9a7a6d8",
   "metadata": {},
   "outputs": [],
   "source": [
    "def experiment(wines, lr):\n",
    "    y = wines[\"quality\"]\n",
    "    X = wines.drop(\"quality\", axis=1)\n",
    "    X_train, X_test, y_train, y_test = train_test_split(X, y, train_size=0.7, random_state=42)\n",
    "    \n",
    "    scaler = StandardScaler()\n",
    "    X_train = scaler.fit_transform(X_train)\n",
    "    X_test = scaler.transform(X_test)\n",
    "    \n",
    "    lr.fit(X_train, y_train)\n",
    "    y_pred = lr.predict(X_test)\n",
    "    \n",
    "    return lr, y_test, y_pred"
   ]
  },
  {
   "cell_type": "code",
   "execution_count": 10,
   "id": "43de1bc7",
   "metadata": {},
   "outputs": [],
   "source": [
    "def print_metrics(lr, y_test, y_pred):\n",
    "    print(\"Coefficients: \\n\", lr.coef_)\n",
    "    print(\"Mean squared error: %.5f\" % mean_squared_error(y_test, y_pred))\n",
    "    print(\"Mean absolute error: %.5f\" % mean_absolute_error(y_test, y_pred))\n",
    "    # 1 is perfect prediction\n",
    "    print(\"Coefficient of determination: %.5f\" % r2_score(y_test, y_pred))\n",
    "    print(\"Mean absolute percentage error: %.5f\" % mean_absolute_percentage_error(y_test, y_pred))"
   ]
  },
  {
   "cell_type": "code",
   "execution_count": 11,
   "id": "bc501746",
   "metadata": {},
   "outputs": [
    {
     "name": "stdout",
     "output_type": "stream",
     "text": [
      "Coefficients: \n",
      " [ 0.1760856   0.09299824 -0.24503851 -0.0048339   0.29719194 -0.03625076\n",
      "  0.08229644 -0.06169023 -0.29458393  0.0769122   0.10482348  0.26088812]\n",
      "Mean squared error: 0.50639\n",
      "Mean absolute error: 0.55943\n",
      "Coefficient of determination: 0.33875\n",
      "Mean absolute percentage error: 0.09929\n"
     ]
    }
   ],
   "source": [
    "lr, y_test, y_pred = experiment(wines, LinearRegression())\n",
    "print_metrics(lr, y_test, y_pred)"
   ]
  },
  {
   "cell_type": "code",
   "execution_count": 12,
   "id": "436870db",
   "metadata": {},
   "outputs": [
    {
     "name": "stdout",
     "output_type": "stream",
     "text": [
      "Coefficients: \n",
      " [ 0.17471266  0.09129561 -0.24489933 -0.00466895  0.29439554 -0.03623969\n",
      "  0.08218411 -0.06167159 -0.29049789  0.07591219  0.10446195  0.26249146]\n",
      "Mean squared error: 0.50642\n",
      "Mean absolute error: 0.55946\n",
      "Coefficient of determination: 0.33871\n",
      "Mean absolute percentage error: 0.09930\n"
     ]
    }
   ],
   "source": [
    "print_metrics(*experiment(wines, Lasso(alpha=0.0001)))"
   ]
  },
  {
   "cell_type": "markdown",
   "id": "ebd12e96",
   "metadata": {},
   "source": [
    "## Строим регрессии для \"белого\" и \"красного\" датасетов"
   ]
  },
  {
   "cell_type": "code",
   "execution_count": 13,
   "id": "ae77eedd",
   "metadata": {},
   "outputs": [
    {
     "name": "stdout",
     "output_type": "stream",
     "text": [
      "Coefficients: \n",
      " [ 0.          0.03945724 -0.19273679  0.01103734  0.41282431 -0.01207327\n",
      "  0.0549712  -0.00582673 -0.42346897  0.09365149  0.0736016   0.2417739 ]\n",
      "Mean squared error: 0.53043\n",
      "Mean absolute error: 0.57694\n",
      "Coefficient of determination: 0.30885\n",
      "Mean absolute percentage error: 0.09981\n"
     ]
    }
   ],
   "source": [
    "lr, y_test_white, y_pred_white = experiment(white_wines, LinearRegression())\n",
    "print_metrics(lr, y_test_white, y_pred_white)"
   ]
  },
  {
   "cell_type": "code",
   "execution_count": 14,
   "id": "60e12c8f",
   "metadata": {},
   "outputs": [
    {
     "name": "stdout",
     "output_type": "stream",
     "text": [
      "Coefficients: \n",
      " [ 0.          0.03842458 -0.1927798   0.01090185  0.41016806 -0.01217529\n",
      "  0.05486589 -0.00569326 -0.41968153  0.09277861  0.07330058  0.24338123]\n",
      "Mean squared error: 0.53046\n",
      "Mean absolute error: 0.57696\n",
      "Coefficient of determination: 0.30881\n",
      "Mean absolute percentage error: 0.09981\n"
     ]
    }
   ],
   "source": [
    "print_metrics(*experiment(white_wines, Lasso(alpha=0.0001)))"
   ]
  },
  {
   "cell_type": "code",
   "execution_count": 15,
   "id": "c45d50bd",
   "metadata": {},
   "outputs": [
    {
     "name": "stdout",
     "output_type": "stream",
     "text": [
      "Coefficients: \n",
      " [ 0.          0.0244142  -0.18605626 -0.0374086   0.02507884 -0.06879497\n",
      "  0.0459863  -0.10687792 -0.00368583 -0.06728721  0.12556166  0.33243495]\n",
      "Mean squared error: 0.44333\n",
      "Mean absolute error: 0.52067\n",
      "Coefficient of determination: 0.34211\n",
      "Mean absolute percentage error: 0.09702\n"
     ]
    }
   ],
   "source": [
    "lr, y_test_red, y_pred_red = experiment(red_wines, LinearRegression())\n",
    "print_metrics(lr, y_test_red, y_pred_red)"
   ]
  },
  {
   "cell_type": "code",
   "execution_count": 16,
   "id": "ab059441",
   "metadata": {},
   "outputs": [
    {
     "name": "stdout",
     "output_type": "stream",
     "text": [
      "Coefficients: \n",
      " [ 0.          0.02361006 -0.18592091 -0.03692096  0.02472257 -0.06871937\n",
      "  0.04579868 -0.10669704 -0.00300344 -0.0673676   0.12532409  0.33270762]\n",
      "Mean squared error: 0.44338\n",
      "Mean absolute error: 0.52072\n",
      "Coefficient of determination: 0.34204\n",
      "Mean absolute percentage error: 0.09703\n"
     ]
    }
   ],
   "source": [
    "print_metrics(*experiment(red_wines, Lasso(alpha=0.0001)))"
   ]
  },
  {
   "cell_type": "markdown",
   "id": "5574234b",
   "metadata": {},
   "source": [
    "## Проводим 10 экспериментов со случайными разбиениями"
   ]
  },
  {
   "cell_type": "code",
   "execution_count": 17,
   "id": "dfec68d4",
   "metadata": {},
   "outputs": [],
   "source": [
    "def multi_experiment(wines, lr):\n",
    "    mse, mae, r2, mape = [], [], [], []\n",
    "\n",
    "    ss = ShuffleSplit(n_splits=10, train_size=0.7, random_state=42)\n",
    "    y = wines[\"quality\"]\n",
    "    X = wines.drop(\"quality\", axis=1)\n",
    "    for train_index, test_index in ss.split(y):\n",
    "        X_train = X.iloc[train_index]\n",
    "        y_train = y.iloc[train_index]\n",
    "        X_test = X.iloc[test_index]\n",
    "        y_test = y.iloc[test_index]\n",
    "        \n",
    "        scaler = StandardScaler()\n",
    "        X_train = scaler.fit_transform(X_train)\n",
    "        X_test = scaler.transform(X_test)\n",
    "    \n",
    "        lr.fit(X_train, y_train)\n",
    "        y_pred = lr.predict(X_test)\n",
    "        \n",
    "        mse.append(mean_squared_error(y_test, y_pred))\n",
    "        mae.append(mean_absolute_error(y_test, y_pred))\n",
    "        r2.append(r2_score(y_test, y_pred))\n",
    "        mape.append(mean_absolute_percentage_error(y_test, y_pred))\n",
    "    \n",
    "    print(\"Mean squared error: %.5f\" % np.mean(mse))\n",
    "    print(\"Mean absolute error: %.5f\" % np.mean(mae))\n",
    "    print(\"Coefficient of determination: %.5f\" % np.mean(r2))\n",
    "    print(\"Mean absolute percentage error: %.5f\" % np.mean(mape))"
   ]
  },
  {
   "cell_type": "code",
   "execution_count": 18,
   "id": "b444c7b9",
   "metadata": {},
   "outputs": [
    {
     "name": "stdout",
     "output_type": "stream",
     "text": [
      "Mean squared error: 0.53214\n",
      "Mean absolute error: 0.56673\n",
      "Coefficient of determination: 0.30140\n",
      "Mean absolute percentage error: 0.10106\n"
     ]
    }
   ],
   "source": [
    "multi_experiment(wines, LinearRegression())"
   ]
  },
  {
   "cell_type": "code",
   "execution_count": 19,
   "id": "8df77795",
   "metadata": {},
   "outputs": [
    {
     "name": "stdout",
     "output_type": "stream",
     "text": [
      "Mean squared error: 0.53212\n",
      "Mean absolute error: 0.56674\n",
      "Coefficient of determination: 0.30143\n",
      "Mean absolute percentage error: 0.10106\n"
     ]
    }
   ],
   "source": [
    "multi_experiment(wines, Lasso(alpha=0.0001))"
   ]
  },
  {
   "cell_type": "code",
   "execution_count": 20,
   "id": "f907378d",
   "metadata": {},
   "outputs": [
    {
     "name": "stdout",
     "output_type": "stream",
     "text": [
      "Mean squared error: 0.55823\n",
      "Mean absolute error: 0.58383\n",
      "Coefficient of determination: 0.28488\n",
      "Mean absolute percentage error: 0.10268\n"
     ]
    }
   ],
   "source": [
    "multi_experiment(white_wines, LinearRegression())"
   ]
  },
  {
   "cell_type": "code",
   "execution_count": 21,
   "id": "56cfdc12",
   "metadata": {},
   "outputs": [
    {
     "name": "stdout",
     "output_type": "stream",
     "text": [
      "Mean squared error: 0.55818\n",
      "Mean absolute error: 0.58384\n",
      "Coefficient of determination: 0.28494\n",
      "Mean absolute percentage error: 0.10268\n"
     ]
    }
   ],
   "source": [
    "multi_experiment(white_wines, Lasso(alpha=0.0001))"
   ]
  },
  {
   "cell_type": "code",
   "execution_count": 22,
   "id": "7d601192",
   "metadata": {},
   "outputs": [
    {
     "name": "stdout",
     "output_type": "stream",
     "text": [
      "Mean squared error: 0.42530\n",
      "Mean absolute error: 0.51109\n",
      "Coefficient of determination: 0.35980\n",
      "Mean absolute percentage error: 0.09374\n"
     ]
    }
   ],
   "source": [
    "multi_experiment(red_wines, LinearRegression())"
   ]
  },
  {
   "cell_type": "code",
   "execution_count": 23,
   "id": "ca0fd5c3",
   "metadata": {},
   "outputs": [
    {
     "name": "stdout",
     "output_type": "stream",
     "text": [
      "Mean squared error: 0.42531\n",
      "Mean absolute error: 0.51112\n",
      "Coefficient of determination: 0.35979\n",
      "Mean absolute percentage error: 0.09374\n"
     ]
    }
   ],
   "source": [
    "multi_experiment(red_wines, Lasso(alpha=0.0001))"
   ]
  },
  {
   "cell_type": "markdown",
   "id": "f97af101",
   "metadata": {},
   "source": [
    "## Вывод"
   ]
  },
  {
   "cell_type": "code",
   "execution_count": 24,
   "id": "d8fefb16",
   "metadata": {},
   "outputs": [
    {
     "data": {
      "image/png": "[encoded data removed]",
      "text/plain": [
       "<Figure size 864x576 with 1 Axes>"
      ]
     },
     "metadata": {
      "needs_background": "light"
     },
     "output_type": "display_data"
    }
   ],
   "source": [
    "import warnings\n",
    "warnings.filterwarnings(\"ignore\", category=UserWarning)\n",
    "\n",
    "plt.rcParams['figure.figsize']=(12, 8) \n",
    "y_delta = y_pred - y_test\n",
    "y_delta_white = y_pred_white - y_test_white\n",
    "y_delta_red = y_pred_red - y_test_red\n",
    "sns.kdeplot(y_delta, color='green', label='All Wines')\n",
    "sns.kdeplot(y_delta_white, color='orange', label='White Wines')\n",
    "sns.kdeplot(y_delta_red, color='red', label='Red wines')\n",
    "plt.xlabel('Error') \n",
    "plt.ylabel('Probability Density')\n",
    "plt.legend()\n",
    "plt.show()"
   ]
  },
  {
   "cell_type": "markdown",
   "id": "2ebd0b07",
   "metadata": {},
   "source": [
    "Абсолютная средняя ошибка построенной регрессии составляет 0,566 балла.\n",
    "\n",
    "Кроме того, среднеквадратичная ошибка невысокая (0,532) - это свидетельствует о том, что нет частых **больших** отклонений предсказаные значений от истинных."
   ]
  }
 ],
 "metadata": {
  "kernelspec": {
   "display_name": "my_env",
   "language": "python",
   "name": "my_env"
  },
  "language_info": {
   "codemirror_mode": {
    "name": "ipython",
    "version": 3
   },
   "file_extension": ".py",
   "mimetype": "text/x-python",
   "name": "python",
   "nbconvert_exporter": "python",
   "pygments_lexer": "ipython3",
   "version": "3.7.7"
  },
  "varInspector": {
   "cols": {
    "lenName": 16,
    "lenType": 16,
    "lenVar": 40
   },
   "kernels_config": {
    "python": {
     "delete_cmd_postfix": "",
     "delete_cmd_prefix": "del ",
     "library": "var_list.py",
     "varRefreshCmd": "print(var_dic_list())"
    },
    "r": {
     "delete_cmd_postfix": ") ",
     "delete_cmd_prefix": "rm(",
     "library": "var_list.r",
     "varRefreshCmd": "cat(var_dic_list()) "
    }
   },
   "types_to_exclude": [
    "module",
    "function",
    "builtin_function_or_method",
    "instance",
    "_Feature"
   ],
   "window_display": false
  }
 },
 "nbformat": 4,
 "nbformat_minor": 5
}
